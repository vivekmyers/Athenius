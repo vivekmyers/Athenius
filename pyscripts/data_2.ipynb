{
 "cells": [
  {
   "cell_type": "code",
   "execution_count": 50,
   "metadata": {},
   "outputs": [],
   "source": [
    "import data_loader\n",
    "import matplotlib.pyplot as plt\n",
    "%matplotlib inline\n",
    "from sklearn.cluster import KMeans\n",
    "from sklearn.manifold import TSNE\n",
    "from sklearn.decomposition import PCA\n",
    "from tqdm import tqdm\n",
    "import numpy as np\n",
    "congress = \"senate\""
   ]
  },
  {
   "cell_type": "code",
   "execution_count": 51,
   "metadata": {},
   "outputs": [],
   "source": [
    "isHouse = congress == \"house\"\n",
    "arr, reps, bills = data_loader.house_records() if isHouse else data_loader.senate_records()"
   ]
  },
  {
   "cell_type": "code",
   "execution_count": 64,
   "metadata": {},
   "outputs": [
    {
     "name": "stdout",
     "output_type": "stream",
     "text": [
      "{'vote_result': 'Resolution Agreed to', 'vote_date': 'January 8, 2007,  12:01 PM', 'vote_number': '1', 'session': '1', 'majority_requirement': '1/2', 'congress_year': '2007', 'vote_question_text': 'On the Resolution S.Res. 19', 'question': 'On the Resolution', 'vote_result_text': 'Resolution Agreed to (88-0)', 'vote_title': 'S. Res. 19', 'congress': '110', 'vote_document_text': 'A resolution honoring President Gerald Rudolph Ford.'}\n",
      "(97, 3623)\n"
     ]
    }
   ],
   "source": [
    "print(bills[0])\n",
    "print(arr.shape)"
   ]
  },
  {
   "cell_type": "code",
   "execution_count": 53,
   "metadata": {
    "scrolled": true
   },
   "outputs": [
    {
     "name": "stdout",
     "output_type": "stream",
     "text": [
      "116\n",
      "2\n",
      "442\n"
     ]
    }
   ],
   "source": [
    "def getBillKey(bill):\n",
    "    if isHouse: return 10000*int(bill[\"congress\"]) + 1000*int(bill[\"session\"][0]) + int(bill[\"rollcall-num\"])\n",
    "    else: return 10000*int(bill[\"congress\"]) + 1000*int(bill[\"session\"]) + int(bill[\"vote_number\"])\n",
    "print(max([int(bill[\"congress\"]) for bill in bills]))\n",
    "print(max([int(bill[\"session\"][0]) for bill in bills]))\n",
    "if(isHouse): print(max([int(bill[\"rollcall-num\"]) for bill in bills]))\n",
    "else: print(max([int(bill[\"vote_number\"]) for bill in bills]))"
   ]
  },
  {
   "cell_type": "code",
   "execution_count": 54,
   "metadata": {},
   "outputs": [],
   "source": [
    "billkeys = [getBillKey(bill) for bill in bills]\n",
    "indices = [i for i, _ in sorted(enumerate(billkeys), key=lambda x:x[1])]\n",
    "bills = [bills[i] for i in indices]\n",
    "arr = arr[:, indices]"
   ]
  },
  {
   "cell_type": "code",
   "execution_count": 55,
   "metadata": {
    "scrolled": true
   },
   "outputs": [
    {
     "name": "stdout",
     "output_type": "stream",
     "text": [
      "['Sanders (I-VT)' '-0.521' '-0.36200000000000004']\n"
     ]
    },
    {
     "data": {
      "image/png": "[encoded data removed]",
      "text/plain": [
       "<Figure size 432x288 with 1 Axes>"
      ]
     },
     "metadata": {
      "needs_background": "light"
     },
     "output_type": "display_data"
    }
   ],
   "source": [
    "def infoRep(repid):\n",
    "    print(reps[repid])\n",
    "    plt.plot(arr[repid])\n",
    "    plt.show()\n",
    "    \n",
    "infoRep(74)"
   ]
  },
  {
   "cell_type": "code",
   "execution_count": 56,
   "metadata": {
    "scrolled": true
   },
   "outputs": [
    {
     "name": "stdout",
     "output_type": "stream",
     "text": [
      "['January 8, 2007,  12:01 PM', 'January 22, 2008,  05:32 PM', 'January 11, 2009,  02:00 PM', 'January 20, 2010,  12:01 PM', 'January 26, 2011,  02:26 PM', 'January 23, 2012,  05:32 PM', 'January 24, 2013,  07:54 PM', 'January 6, 2014,  05:30 PM', 'January 8, 2015,  01:46 PM', 'January 11, 2016,  05:32 PM', 'January 4, 2017,  12:38 PM', 'January 3, 2018,  05:28 PM', 'January 8, 2019,  05:39 PM']\n"
     ]
    }
   ],
   "source": [
    "# first bill of each session\n",
    "firstbills = []\n",
    "for bill in bills:\n",
    "    if((isHouse and bill[\"rollcall-num\"] == \"1\") or ((not isHouse) and bill[\"vote_number\"] == \"1\")):\n",
    "        firstbills.append(bill)\n",
    "if isHouse: print([bill[\"action-date\"] for bill in firstbills])\n",
    "else: print([bill[\"vote_date\"] for bill in firstbills])"
   ]
  },
  {
   "cell_type": "code",
   "execution_count": 57,
   "metadata": {},
   "outputs": [],
   "source": [
    "def filterReps(bill, inactiveThresh=None):\n",
    "    \"\"\"Find indices of representatives who have been around since bill.\n",
    "    \n",
    "    inactiveThresh specifies how many no-votes in a row indicate an inactive representative; default\n",
    "    value is 20 or 50\"\"\"\n",
    "    if not inactiveThresh: inactiveThresh = 50 if isHouse else 20\n",
    "    billkey = getBillKey(bill)\n",
    "    goodreps = []\n",
    "    for i in range(len(reps)):\n",
    "        streak = 0\n",
    "        isgood = True\n",
    "        for j in range(len(bills)):\n",
    "            if(getBillKey(bills[j]) >= billkey): # if more recent than billkey\n",
    "                if(arr[i][j] == 0): streak += 1\n",
    "                else: streak = 0\n",
    "                if(streak == inactiveThresh): isgood = False\n",
    "        if(isgood or reps[i][0][:7] == \"Sanders\"): goodreps.append(i) # exception for bernie sanders, #74\n",
    "    return goodreps\n",
    "\n",
    "def filterByParty(repindices, party):\n",
    "    filteredreps = []\n",
    "    for index in repindices:\n",
    "        if reps[index][0][-5] == party:\n",
    "            filteredreps.append(index)\n",
    "    return filteredreps\n",
    "\n",
    "def billsSince(bill):\n",
    "    \"\"\"Count how many bills have transpired since input bill.\"\"\"\n",
    "    count = 0\n",
    "    for b in bills:\n",
    "        if getBillKey(b) >= getBillKey(bill):\n",
    "            count += 1\n",
    "    return count"
   ]
  },
  {
   "cell_type": "code",
   "execution_count": 58,
   "metadata": {},
   "outputs": [
    {
     "name": "stdout",
     "output_type": "stream",
     "text": [
      "[array(['King (I-ME)', '-0.152', '-0.228'], dtype='<U21'), array(['Sanders (I-VT)', '-0.521', '-0.36200000000000004'], dtype='<U21')]\n"
     ]
    }
   ],
   "source": [
    "print([reps[i] for i in filterByParty(list(range(len(reps))), \"I\")]) # test"
   ]
  },
  {
   "cell_type": "code",
   "execution_count": 59,
   "metadata": {},
   "outputs": [],
   "source": [
    "# how far back can we go while still having N active senators from then to today?\n",
    "Ns = []\n",
    "found = False\n",
    "for i in range(len(firstbills)):\n",
    "    Ns.append(len(filterReps(firstbills[i])))\n",
    "Bs = [billsSince(bill) for bill in firstbills]"
   ]
  },
  {
   "cell_type": "code",
   "execution_count": 60,
   "metadata": {},
   "outputs": [
    {
     "name": "stdout",
     "output_type": "stream",
     "text": [
      "[[27, 3623], [29, 3181], [36, 2966], [36, 2569], [47, 2270], [47, 2035], [57, 1784], [59, 1493], [74, 1127], [76, 788], [81, 625], [86, 300], [95, 26]]\n"
     ]
    },
    {
     "data": {
      "image/png": "[encoded data removed]",
      "text/plain": [
       "<Figure size 432x288 with 1 Axes>"
      ]
     },
     "metadata": {
      "needs_background": "light"
     },
     "output_type": "display_data"
    }
   ],
   "source": [
    "print([[Ns[i], Bs[i]] for i in range(len(Ns))])\n",
    "plt.scatter(Ns, Bs)\n",
    "plt.xlabel(\"Representatives still active\")\n",
    "plt.ylabel(\"Bills since session\")\n",
    "congresstitle = \"House\" if isHouse else \"Senate\"\n",
    "plt.title(\"Turnover in the \"+congresstitle)\n",
    "plt.show()"
   ]
  },
  {
   "cell_type": "code",
   "execution_count": 61,
   "metadata": {},
   "outputs": [
    {
     "name": "stdout",
     "output_type": "stream",
     "text": [
      "[74, 1127]\n",
      "{'congress': '114', 'vote_question_text': 'On the Amendment S.Amdt. 1 to H.R. 26 (Terrorism Risk Insurance Program Reauthorization Act of 2015)', 'vote_result': 'Amendment Rejected', 'congress_year': '2015', 'vote_document_text': 'In the nature of a substitute.', 'vote_result_text': 'Amendment Rejected (31-66, 3/5 majority required)', 'question': 'On the Amendment', 'vote_title': 'Warren Amdt. No. 1', 'vote_number': '1', 'session': '1', 'majority_requirement': '3/5', 'vote_date': 'January 8, 2015,  01:46 PM'}\n"
     ]
    }
   ],
   "source": [
    "# inspect above graph and set index\n",
    "index = 8\n",
    "print([[Ns[i], Bs[i]] for i in range(len(Ns))][index])\n",
    "print(firstbills[index])"
   ]
  },
  {
   "cell_type": "code",
   "execution_count": 62,
   "metadata": {},
   "outputs": [],
   "source": [
    "if not isHouse: # senate\n",
    "    choice = 8\n",
    "    arrD = arr[filterByParty(filterReps(firstbills[choice]), \"D\"), :]\n",
    "    arrD = arrD[:, -billsSince(firstbills[choice]):]\n",
    "    arrR = arr[filterByParty(filterReps(firstbills[choice]), \"R\"), :]\n",
    "    arrR = arrR[:, -billsSince(firstbills[choice]):]\n",
    "    arrI = arr[filterByParty(filterReps(firstbills[choice]), \"I\"), :]\n",
    "    arrI = arrI[:, -billsSince(firstbills[choice]):]\n",
    "    arrA = arr[filterReps(firstbills[choice]), :]\n",
    "    arrA = arrA[:, -billsSince(firstbills[choice]):]\n",
    "    np.save(\"senate_votes_d\", np.array([arrD, reps[filterByParty(filterReps(firstbills[choice]), \"D\")],\n",
    "                                                   bills[-billsSince(firstbills[choice]):]]))\n",
    "    np.save(\"senate_votes_r\", np.array([arrR, reps[filterByParty(filterReps(firstbills[choice]), \"R\")],\n",
    "                                                   bills[-billsSince(firstbills[choice]):]]))\n",
    "    np.save(\"senate_votes_i\", np.array([arrI, reps[filterByParty(filterReps(firstbills[choice]), \"I\")],\n",
    "                                                   bills[-billsSince(firstbills[choice]):]]))\n",
    "    np.save(\"senate_votes\", np.array([arrA, reps[filterReps(firstbills[choice])],\n",
    "                                                   bills[-billsSince(firstbills[choice]):]]))\n",
    "if isHouse: # house\n",
    "    choice = 6\n",
    "    arrD = arr[filterByParty(filterReps(firstbills[choice]), \"D\"), :]\n",
    "    arrD = arrD[:, -billsSince(firstbills[choice]):]\n",
    "    arrR = arr[filterByParty(filterReps(firstbills[choice]), \"R\"), :]\n",
    "    arrR = arrR[:, -billsSince(firstbills[choice]):]\n",
    "    arrI = arr[filterByParty(filterReps(firstbills[choice]), \"I\"), :]\n",
    "    arrI = arrI[:, -billsSince(firstbills[choice]):]\n",
    "    arrA = arr[filterReps(firstbills[choice]), :]\n",
    "    arrA = arrA[:, -billsSince(firstbills[choice]):]\n",
    "    np.save(\"house_votes_d\", np.array([arrD, reps[filterByParty(filterReps(firstbills[choice]), \"D\")],\n",
    "                                                   bills[-billsSince(firstbills[choice]):]]))\n",
    "    np.save(\"house_votes_r\", np.array([arrR, reps[filterByParty(filterReps(firstbills[choice]), \"R\")],\n",
    "                                                   bills[-billsSince(firstbills[choice]):]]))\n",
    "    np.save(\"house_votes_i\", np.array([arrI, reps[filterByParty(filterReps(firstbills[choice]), \"I\")],\n",
    "                                                   bills[-billsSince(firstbills[choice]):]]))\n",
    "    np.save(\"house_votes\", np.array([arrA, reps[filterReps(firstbills[choice])],\n",
    "                                                   bills[-billsSince(firstbills[choice]):]]))"
   ]
  }
 ],
 "metadata": {
  "kernelspec": {
   "display_name": "Python 3",
   "language": "python",
   "name": "python3"
  },
  "language_info": {
   "codemirror_mode": {
    "name": "ipython",
    "version": 3
   },
   "file_extension": ".py",
   "mimetype": "text/x-python",
   "name": "python",
   "nbconvert_exporter": "python",
   "pygments_lexer": "ipython3",
   "version": "3.7.1"
  }
 },
 "nbformat": 4,
 "nbformat_minor": 2
}
