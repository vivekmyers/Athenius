{
 "cells": [
  {
   "cell_type": "code",
   "execution_count": 65,
   "metadata": {},
   "outputs": [],
   "source": [
    "import data_loader\n",
    "import matplotlib.pyplot as plt\n",
    "%matplotlib inline\n",
    "from sklearn.cluster import KMeans\n",
    "from sklearn.manifold import TSNE\n",
    "from sklearn.decomposition import PCA\n",
    "from tqdm import tqdm"
   ]
  },
  {
   "cell_type": "code",
   "execution_count": null,
   "metadata": {},
   "outputs": [],
   "source": [
    "arr, reps, bills = data_loader.senate_records()"
   ]
  },
  {
   "cell_type": "code",
   "execution_count": 68,
   "metadata": {},
   "outputs": [
    {
     "name": "stdout",
     "output_type": "stream",
     "text": [
      "116\n",
      "2\n",
      "442\n"
     ]
    }
   ],
   "source": [
    "def getBillKey(bill):\n",
    "    return 10000*int(bill[\"congress\"]) + 1000*int(bill[\"session\"]) + int(bill[\"vote_number\"])\n",
    "print(max([int(bill[\"congress\"]) for bill in bills]))\n",
    "print(max([int(bill[\"session\"]) for bill in bills]))\n",
    "print(max([int(bill[\"vote_number\"]) for bill in bills]))"
   ]
  },
  {
   "cell_type": "code",
   "execution_count": 32,
   "metadata": {},
   "outputs": [],
   "source": [
    "billkeys = [getBillKey(bill) for bill in bills]\n",
    "indices = [i for i, _ in sorted(enumerate(billkeys), key=lambda x:x[1])]\n",
    "bills = [bills[i] for i in indices]\n",
    "arr = arr[:, indices]"
   ]
  },
  {
   "cell_type": "code",
   "execution_count": 50,
   "metadata": {
    "scrolled": true
   },
   "outputs": [
    {
     "name": "stdout",
     "output_type": "stream",
     "text": [
      "Braun (R-IN)\n"
     ]
    },
    {
     "data": {
      "image/png": "[encoded data removed]",
      "text/plain": [
       "<Figure size 432x288 with 1 Axes>"
      ]
     },
     "metadata": {
      "needs_background": "light"
     },
     "output_type": "display_data"
    }
   ],
   "source": [
    "def infoRep(repid):\n",
    "    print(reps[repid])\n",
    "    plt.plot(arr[repid])\n",
    "    plt.show()\n",
    "    \n",
    "infoRep(20)"
   ]
  },
  {
   "cell_type": "code",
   "execution_count": 79,
   "metadata": {},
   "outputs": [
    {
     "name": "stdout",
     "output_type": "stream",
     "text": [
      "[{'question': 'On the Resolution', 'vote_title': 'S. Res. 19', 'congress_year': '2007', 'congress': '110', 'vote_document_text': 'A resolution honoring President Gerald Rudolph Ford.', 'vote_result_text': 'Resolution Agreed to (88-0)', 'session': '1', 'majority_requirement': '1/2', 'vote_date': 'January 8, 2007,  12:01 PM', 'vote_result': 'Resolution Agreed to', 'vote_number': '1', 'vote_question_text': 'On the Resolution S.Res. 19'}, {'vote_result': 'Bill Passed', 'congress_year': '2008', 'congress': '110', 'question': 'On Passage of the Bill', 'majority_requirement': '1/2', 'session': '2', 'vote_question_text': 'On Passage of the Bill H.R. 4986', 'vote_title': 'H.R.4986', 'vote_result_text': 'Bill Passed (91-3)', 'vote_number': '1', 'vote_date': 'January 22, 2008,  05:32 PM', 'vote_document_text': 'A bill to provide for the enactment of the National Defense Authorization Act for Fiscal Year 2008, as previously enrolled, with certain modifications to address the foreign sovereign immunities provisions of title 28, United States Code, with respect to the attachment of property in certain judgements against Iraq, the lapse of statutory authorities for the payment of bonuses, special pays, and similar benefits for members of the uniformed services, and for other purposes.'}, {'vote_document_text': 'A bill to designate certain land components of the National Wilderness Preservation System, to authorize certain programs and activities in the Department of the Interior and the Department of Agriculture, and for other purposes.', 'vote_result': 'Cloture Motion Agreed to', 'congress_year': '2009', 'vote_question_text': 'On the Cloture Motion S. 22', 'vote_title': 'Motion to Invoke Cloture on the Motion to Proceed to S. 22', 'vote_date': 'January 11, 2009,  02:00 PM', 'session': '1', 'vote_result_text': 'Cloture Motion Agreed to (66-12, 3/5 majority required)', 'majority_requirement': '3/5', 'congress': '111', 'vote_number': '1', 'question': 'On the Cloture Motion'}, {'vote_result_text': 'Nomination Confirmed (97-0)', 'vote_title': 'Confirmation Beverly Baldwin Martin, of Georgia, to be U.S. Circuit Judge', 'vote_date': 'January 20, 2010,  12:01 PM', 'question': 'On the Nomination', 'vote_result': 'Nomination Confirmed', 'majority_requirement': '1/2', 'session': '2', 'congress': '111', 'congress_year': '2010', 'vote_number': '1', 'vote_question_text': 'On the Nomination PN635', 'vote_document_text': 'Beverly Baldwin Martin, of Georgia, to be United States Circuit Judge for the Eleventh Circuit'}, {'question': 'On the Resolution', 'congress_year': '2011', 'vote_document_text': 'A resolution honoring the victims and heroes of the shooting on January 8, 2011 in Tucson, Arizona.', 'vote_title': 'S.Res. 14', 'session': '1', 'majority_requirement': '1/2', 'vote_date': 'January 26, 2011,  02:26 PM', 'vote_result_text': 'Resolution Agreed to (97-0)', 'congress': '112', 'vote_result': 'Resolution Agreed to', 'vote_number': '1', 'vote_question_text': 'On the Resolution S.Res. 14'}, {'vote_date': 'January 23, 2012,  05:32 PM', 'congress_year': '2012', 'vote_result_text': 'Nomination Confirmed (74-16)', 'vote_result': 'Nomination Confirmed', 'majority_requirement': '1/2', 'vote_document_text': 'John M. Gerrard, of Nebraska, to be United States District Judge for the District of Nebraska', 'session': '2', 'congress': '112', 'vote_title': 'Confirmation John M. Gerrard, of Nebraska, to be U.S. District Judge for the District of Nebraska', 'vote_question_text': 'On the Nomination PN468', 'vote_number': '1', 'question': 'On the Nomination'}, {'congress_year': '2013', 'question': 'On the Resolution', 'vote_result_text': 'Resolution Agreed to (78-16, 3/5 majority required)', 'congress': '113', 'session': '1', 'vote_date': 'January 24, 2013,  07:54 PM', 'vote_document_text': 'A resolution to improve procedures for the consideration of legislation and nominations in the Senate.', 'vote_result': 'Resolution Agreed to', 'majority_requirement': '3/5', 'vote_title': 'S. Res. 15', 'vote_number': '1', 'vote_question_text': 'On the Resolution S.Res. 15'}, {'congress_year': '2014', 'vote_date': 'January 6, 2014,  05:30 PM', 'vote_question_text': 'On the Nomination PN921', 'congress': '113', 'vote_title': 'Confirmation Janet L. Yellen, to be Chairman of the Board of Governors of the Federal Reserve System', 'vote_result': 'Nomination Confirmed', 'vote_document_text': 'Janet L. Yellen, of California, to be Chairman of the Board of Governors of the Federal Reserve System for a term of four years', 'majority_requirement': '1/2', 'session': '2', 'vote_result_text': 'Nomination Confirmed (56-26)', 'vote_number': '1', 'question': 'On the Nomination'}, {'vote_result': 'Amendment Rejected', 'congress': '114', 'question': 'On the Amendment', 'vote_date': 'January 8, 2015,  01:46 PM', 'vote_question_text': 'On the Amendment S.Amdt. 1 to H.R. 26 (Terrorism Risk Insurance Program Reauthorization Act of 2015)', 'vote_document_text': 'In the nature of a substitute.', 'session': '1', 'vote_result_text': 'Amendment Rejected (31-66, 3/5 majority required)', 'vote_title': 'Warren Amdt. No. 1', 'majority_requirement': '3/5', 'vote_number': '1', 'congress_year': '2015'}, {'congress_year': '2016', 'congress': '114', 'vote_date': 'January 11, 2016,  05:32 PM', 'vote_result': 'Nomination Confirmed', 'vote_question_text': 'On the Nomination PN11', 'vote_document_text': 'Luis Felipe Restrepo, of Pennsylvania, to be United States Circuit Judge for the Third Circuit', 'vote_result_text': 'Nomination Confirmed (82-6)', 'majority_requirement': '1/2', 'session': '2', 'vote_title': 'Nomination Luis Felipe Restrepo, of Pennsylvania, to be U.S. Circuit Judge for the Third Circuit', 'vote_number': '1', 'question': 'On the Nomination'}, {'congress_year': '2017', 'question': 'On the Motion to Proceed', 'vote_result': 'Motion to Proceed Agreed to', 'congress': '115', 'vote_result_text': 'Motion to Proceed Agreed to (51-48)', 'session': '1', 'majority_requirement': '1/2', 'vote_date': 'January 4, 2017,  12:38 PM', 'vote_title': 'Motion to Proceed to S. Con. Res. 3', 'vote_document_text': 'A concurrent resolution setting forth the congressional budget for the United States Government for fiscal year 2017 and setting forth the appropriate budgetary levels for fiscal years 2018 through 2026.', 'vote_number': '1', 'vote_question_text': 'On the Motion to Proceed S.Con.Res. 3'}, {'vote_title': 'Confirmation John C. Rood, of Arizona, to be Under Secretary of Defense for Policy', 'vote_date': 'January 3, 2018,  05:28 PM', 'congress': '115', 'vote_result': 'Nomination Confirmed', 'majority_requirement': '1/2', 'vote_question_text': 'On the Nomination PN1098', 'session': '2', 'congress_year': '2018', 'vote_document_text': 'John C. Rood, of Arizona, to be Under Secretary of Defense for Policy', 'vote_number': '1', 'question': 'On the Nomination', 'vote_result_text': 'Nomination Confirmed (81-7)'}, {'vote_document_text': 'A bill to make improvements to certain defense and security assistance provisions and to authorize the appropriation of funds to Israel, to reauthorize the United States-Jordan Defense Cooperation Act of 2015, and to halt the wholesale slaughter of the Syrian people, and for other purposes.', 'question': 'On Cloture on the Motion to Proceed', 'vote_question_text': 'On Cloture on the Motion to Proceed S. 1', 'vote_result': 'Cloture on the Motion to Proceed Rejected', 'vote_date': 'January 8, 2019,  05:39 PM', 'session': '1', 'vote_title': 'Motion to Invoke Cloture on the Motion to Proceed to S. 1', 'congress_year': '2019', 'majority_requirement': '3/5', 'vote_result_text': 'Cloture on the Motion to Proceed Rejected (56-44, 3/5 majority required)', 'vote_number': '1', 'congress': '116'}]\n"
     ]
    }
   ],
   "source": [
    "# first bill of each session\n",
    "firstbills = []\n",
    "for bill in bills:\n",
    "    if(bill[\"vote_number\"] == \"1\"):\n",
    "        firstbills.append(bill)\n",
    "print(firstbills)"
   ]
  },
  {
   "cell_type": "code",
   "execution_count": 84,
   "metadata": {},
   "outputs": [],
   "source": [
    "def filterReps(bill, inactiveThresh=10):\n",
    "    \"\"\"Find indices of representatives who have been around since bill.\n",
    "    \n",
    "    inactiveThresh specifies how many no-votes in a row indicate an inactive representative; default\n",
    "    value is 10.\"\"\"\n",
    "    billkey = getBillKey(bill)\n",
    "    goodreps = []\n",
    "    for i in range(len(reps)):\n",
    "        streak = 0\n",
    "        isgood = True\n",
    "        for j in range(len(bills)):\n",
    "            if(getBillKey(bills[j]) >= billkey): # if more recent than billkey\n",
    "                if(arr[i][j] == 0): streak += 1\n",
    "                else: streak = 0\n",
    "                if(streak == inactiveThresh): isgood = False\n",
    "        if(isgood): goodreps.append(i)\n",
    "    return goodreps\n",
    "\n",
    "def billsSince(bill):\n",
    "    \"\"\"Count how many bills have transpired since input bill.\"\"\"\n",
    "    count = 0\n",
    "    for b in bills:\n",
    "        if getBillKey(b) >= getBillKey(bill):\n",
    "            count += 1\n",
    "    return count"
   ]
  },
  {
   "cell_type": "code",
   "execution_count": 78,
   "metadata": {},
   "outputs": [
    {
     "name": "stdout",
     "output_type": "stream",
     "text": [
      "[1, 21, 25, 28, 30, 31, 32, 41, 45, 51, 61, 74, 105, 112, 124, 141, 154, 159, 166, 171, 173, 186]\n"
     ]
    }
   ],
   "source": [
    "print(filterReps(bills[0]))"
   ]
  },
  {
   "cell_type": "code",
   "execution_count": 87,
   "metadata": {},
   "outputs": [],
   "source": [
    "# how far back can we go while still having N active senators from then to today?\n",
    "Ns = []\n",
    "found = False\n",
    "for i in range(len(firstbills)):\n",
    "    Ns.append(len(filterReps(firstbills[i])))\n",
    "Bs = [billsSince(bill) for bill in firstbills]"
   ]
  },
  {
   "cell_type": "code",
   "execution_count": 93,
   "metadata": {},
   "outputs": [
    {
     "name": "stdout",
     "output_type": "stream",
     "text": [
      "[[22, 3623], [24, 3181], [27, 2966], [29, 2569], [38, 2270], [38, 2035], [47, 1784], [48, 1493], [67, 1127], [71, 788], [79, 625], [85, 300], [100, 26]]\n"
     ]
    },
    {
     "data": {
      "image/png": "[encoded data removed]",
      "text/plain": [
       "<Figure size 432x288 with 1 Axes>"
      ]
     },
     "metadata": {
      "needs_background": "light"
     },
     "output_type": "display_data"
    }
   ],
   "source": [
    "print([[Ns[i], Bs[i]] for i in range(len(Ns))])\n",
    "plt.scatter(Ns, Bs)\n",
    "plt.xlabel(\"Senators still active\")\n",
    "plt.ylabel(\"Bills since session\")\n",
    "plt.title(\"Turnover in the Senate\")\n",
    "plt.show()"
   ]
  }
 ],
 "metadata": {
  "kernelspec": {
   "display_name": "Python 3",
   "language": "python",
   "name": "python3"
  },
  "language_info": {
   "codemirror_mode": {
    "name": "ipython",
    "version": 3
   },
   "file_extension": ".py",
   "mimetype": "text/x-python",
   "name": "python",
   "nbconvert_exporter": "python",
   "pygments_lexer": "ipython3",
   "version": "3.7.1"
  }
 },
 "nbformat": 4,
 "nbformat_minor": 2
}
