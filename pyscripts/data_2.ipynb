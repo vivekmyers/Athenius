{
 "cells": [
  {
   "cell_type": "code",
   "execution_count": 329,
   "metadata": {},
   "outputs": [],
   "source": [
    "import data_loader\n",
    "import matplotlib.pyplot as plt\n",
    "%matplotlib inline\n",
    "from sklearn.cluster import KMeans\n",
    "from sklearn.manifold import TSNE\n",
    "from sklearn.decomposition import PCA\n",
    "from tqdm import tqdm\n",
    "import numpy as np\n",
    "congress = \"house\""
   ]
  },
  {
   "cell_type": "code",
   "execution_count": 330,
   "metadata": {},
   "outputs": [
    {
     "name": "stderr",
     "output_type": "stream",
     "text": [
      "Unable to read 2017_711.xml\n",
      "Unable to read 2011_2.xml\n",
      "Unable to read 2015_581.xml\n",
      "Unable to read 2013_2.xml\n",
      "Unable to read 2019_2.xml\n",
      "Unable to read 2017_2.xml\n",
      "Unable to read 2015_2.xml\n"
     ]
    }
   ],
   "source": [
    "isHouse = congress == \"house\"\n",
    "arr, reps, bills = data_loader.house_records() if isHouse else data_loader.senate_records()"
   ]
  },
  {
   "cell_type": "code",
   "execution_count": 331,
   "metadata": {},
   "outputs": [
    {
     "name": "stdout",
     "output_type": "stream",
     "text": [
      "{'session': '1st', 'rollcall-num': '261', 'action-date': '17-May-2017', 'majority': 'R', 'vote-question': 'Table Appeal of the Ruling of the Chair', 'vote-result': 'Passed', 'congress': '115', 'vote-desc': None, 'legis-num': 'MOTION', 'vote-type': 'YEA-AND-NAY', 'action-time': '6:21 PM'}\n",
      "(829, 5431)\n"
     ]
    }
   ],
   "source": [
    "print(bills[0])\n",
    "print(arr.shape)"
   ]
  },
  {
   "cell_type": "code",
   "execution_count": 332,
   "metadata": {
    "scrolled": true
   },
   "outputs": [
    {
     "name": "stdout",
     "output_type": "stream",
     "text": [
      "116\n",
      "2\n",
      "949\n"
     ]
    }
   ],
   "source": [
    "def getBillKey(bill):\n",
    "    if isHouse: return 10000*int(bill[\"congress\"]) + 1000*int(bill[\"session\"][0]) + int(bill[\"rollcall-num\"])\n",
    "    else: return 10000*int(bill[\"congress\"]) + 1000*int(bill[\"session\"]) + int(bill[\"vote_number\"])\n",
    "print(max([int(bill[\"congress\"]) for bill in bills]))\n",
    "print(max([int(bill[\"session\"][0]) for bill in bills]))\n",
    "if(isHouse): print(max([int(bill[\"rollcall-num\"]) for bill in bills]))\n",
    "else: print(max([int(bill[\"vote_number\"]) for bill in bills]))"
   ]
  },
  {
   "cell_type": "code",
   "execution_count": 333,
   "metadata": {},
   "outputs": [],
   "source": [
    "billkeys = [getBillKey(bill) for bill in bills]\n",
    "indices = [i for i, _ in sorted(enumerate(billkeys), key=lambda x:x[1])]\n",
    "bills = [bills[i] for i in indices]\n",
    "arr = arr[:, indices]"
   ]
  },
  {
   "cell_type": "code",
   "execution_count": 334,
   "metadata": {
    "scrolled": true
   },
   "outputs": [
    {
     "name": "stdout",
     "output_type": "stream",
     "text": [
      "Casten (IL) (D-IL)\n"
     ]
    },
    {
     "data": {
      "image/png": "[encoded data removed]",
      "text/plain": [
       "<Figure size 432x288 with 1 Axes>"
      ]
     },
     "metadata": {
      "needs_background": "light"
     },
     "output_type": "display_data"
    }
   ],
   "source": [
    "def infoRep(repid):\n",
    "    print(reps[repid])\n",
    "    plt.plot(arr[repid])\n",
    "    plt.show()\n",
    "    \n",
    "infoRep(120)"
   ]
  },
  {
   "cell_type": "code",
   "execution_count": 335,
   "metadata": {
    "scrolled": true
   },
   "outputs": [
    {
     "name": "stdout",
     "output_type": "stream",
     "text": [
      "['5-Jan-2011', '17-Jan-2012', '3-Jan-2013', '7-Jan-2014', '6-Jan-2015', '5-Jan-2016', '3-Jan-2017', '8-Jan-2018', '3-Jan-2019']\n"
     ]
    }
   ],
   "source": [
    "# first bill of each session\n",
    "firstbills = []\n",
    "for bill in bills:\n",
    "    if((isHouse and bill[\"rollcall-num\"] == \"1\") or ((not isHouse) and bill[\"vote_number\"] == \"1\")):\n",
    "        firstbills.append(bill)\n",
    "if isHouse: print([bill[\"action-date\"] for bill in firstbills])\n",
    "else: print([bill[\"vote_date\"] for bill in firstbills])"
   ]
  },
  {
   "cell_type": "code",
   "execution_count": 336,
   "metadata": {},
   "outputs": [],
   "source": [
    "def filterReps(bill, inactiveThresh=None):\n",
    "    \"\"\"Find indices of representatives who have been around since bill.\n",
    "    \n",
    "    inactiveThresh specifies how many no-votes in a row indicate an inactive representative; default\n",
    "    value is 20 or 50\"\"\"\n",
    "    if not inactiveThresh: inactiveThresh = 50 if isHouse else 20\n",
    "    billkey = getBillKey(bill)\n",
    "    goodreps = []\n",
    "    for i in range(len(reps)):\n",
    "        streak = 0\n",
    "        isgood = True\n",
    "        for j in range(len(bills)):\n",
    "            if(getBillKey(bills[j]) >= billkey): # if more recent than billkey\n",
    "                if(arr[i][j] == 0): streak += 1\n",
    "                else: streak = 0\n",
    "                if(streak == inactiveThresh): isgood = False\n",
    "        if(isgood): goodreps.append(i)\n",
    "    return goodreps\n",
    "\n",
    "def filterByParty(repindices, party):\n",
    "    filteredreps = []\n",
    "    for index in repindices:\n",
    "        if reps[index][-5] == party:\n",
    "            filteredreps.append(index)\n",
    "    return filteredreps\n",
    "\n",
    "def billsSince(bill):\n",
    "    \"\"\"Count how many bills have transpired since input bill.\"\"\"\n",
    "    count = 0\n",
    "    for b in bills:\n",
    "        if getBillKey(b) >= getBillKey(bill):\n",
    "            count += 1\n",
    "    return count"
   ]
  },
  {
   "cell_type": "code",
   "execution_count": 337,
   "metadata": {},
   "outputs": [
    {
     "name": "stdout",
     "output_type": "stream",
     "text": [
      "[2, 5, 32, 39, 41, 46, 52, 57, 64, 65, 67, 75, 88, 89, 98, 99, 109, 113, 117, 121, 122, 129, 130, 132, 135, 137, 138, 141, 145, 152, 156, 157, 158, 162, 170, 174, 181, 186, 192, 193, 194, 196, 198, 201, 205, 208, 209, 215, 230, 233, 234, 239, 256, 264, 266, 270, 272, 287, 290, 295, 310, 336, 351, 355, 368, 371, 384, 386, 387, 391, 407, 410, 414, 415, 417, 418, 430, 433, 443, 445, 446, 449, 450, 464, 465, 467, 468, 474, 485, 492, 493, 502, 511, 514, 515, 521, 525, 526, 540, 543, 552, 553, 554, 561, 567, 575, 577, 579, 583, 587, 590, 593, 596, 602, 611, 615, 620, 629, 632, 662, 665, 667, 668, 679, 682, 683, 686, 688, 693, 695, 697, 699, 703, 710, 717, 719, 737, 739, 740, 743, 748, 749, 756, 758, 775, 776, 777, 778, 779, 790, 794, 801, 810, 819]\n"
     ]
    }
   ],
   "source": [
    "print(filterByParty(filterReps(firstbills[-2]), \"D\")) # test"
   ]
  },
  {
   "cell_type": "code",
   "execution_count": 338,
   "metadata": {},
   "outputs": [],
   "source": [
    "# how far back can we go while still having N active senators from then to today?\n",
    "Ns = []\n",
    "found = False\n",
    "for i in range(len(firstbills)):\n",
    "    Ns.append(len(filterReps(firstbills[i])))\n",
    "Bs = [billsSince(bill) for bill in firstbills]"
   ]
  },
  {
   "cell_type": "code",
   "execution_count": 339,
   "metadata": {},
   "outputs": [
    {
     "name": "stdout",
     "output_type": "stream",
     "text": [
      "[[0, 5431], [128, 4483], [178, 3824], [190, 3184], [226, 2620], [234, 1917], [286, 1295], [304, 586], [431, 86]]\n"
     ]
    },
    {
     "data": {
      "image/png": "[encoded data removed]",
      "text/plain": [
       "<Figure size 432x288 with 1 Axes>"
      ]
     },
     "metadata": {
      "needs_background": "light"
     },
     "output_type": "display_data"
    }
   ],
   "source": [
    "print([[Ns[i], Bs[i]] for i in range(len(Ns))])\n",
    "plt.scatter(Ns, Bs)\n",
    "plt.xlabel(\"Representatives still active\")\n",
    "plt.ylabel(\"Bills since session\")\n",
    "congresstitle = \"House\" if isHouse else \"Senate\"\n",
    "plt.title(\"Turnover in the \"+congresstitle)\n",
    "plt.show()"
   ]
  },
  {
   "cell_type": "code",
   "execution_count": 340,
   "metadata": {},
   "outputs": [
    {
     "name": "stdout",
     "output_type": "stream",
     "text": [
      "[431, 86]\n",
      "{'session': '1st', 'rollcall-num': '1', 'legis-num': 'QUORUM', 'vote-result': 'Passed', 'majority': 'D', 'action-time': '12:39 PM', 'vote-desc': None, 'vote-type': 'QUORUM', 'vote-question': 'Call by States', 'action-date': '3-Jan-2019', 'congress': '116'}\n"
     ]
    }
   ],
   "source": [
    "# inspect above graph and set index\n",
    "index = 8\n",
    "print([[Ns[i], Bs[i]] for i in range(len(Ns))][index])\n",
    "print(firstbills[index])"
   ]
  },
  {
   "cell_type": "code",
   "execution_count": 341,
   "metadata": {},
   "outputs": [],
   "source": [
    "if not isHouse: # senate\n",
    "    choice = 8\n",
    "    arrD = arr[filterByParty(filterReps(firstbills[choice]), \"D\"), :]\n",
    "    arrD = arrD[:, -billsSince(firstbills[choice]):]\n",
    "    arrR = arr[filterByParty(filterReps(firstbills[choice]), \"R\"), :]\n",
    "    arrR = arrR[:, -billsSince(firstbills[choice]):]\n",
    "    arrA = arr[filterReps(firstbills[choice]), :]\n",
    "    arrA = arrA[:, -billsSince(firstbills[choice]):]\n",
    "    np.save(\"senate_votes_d\", arrD)\n",
    "    np.save(\"senate_votes_r\", arrR)\n",
    "    np.save(\"senate_votes\", arrA)\n",
    "if isHouse:\n",
    "    choice = 6\n",
    "    arrD = arr[filterByParty(filterReps(firstbills[choice]), \"D\"), :]\n",
    "    arrD = arrD[:, -billsSince(firstbills[choice]):]\n",
    "    arrR = arr[filterByParty(filterReps(firstbills[choice]), \"R\"), :]\n",
    "    arrR = arrR[:, -billsSince(firstbills[choice]):]\n",
    "    arrA = arr[filterReps(firstbills[choice]), :]\n",
    "    arrA = arrA[:, -billsSince(firstbills[choice]):]\n",
    "    np.save(\"house_votes_d\", arrD)\n",
    "    np.save(\"house_votes_r\", arrR)\n",
    "    np.save(\"house_votes\", arrA)"
   ]
  }
 ],
 "metadata": {
  "kernelspec": {
   "display_name": "Python 3",
   "language": "python",
   "name": "python3"
  },
  "language_info": {
   "codemirror_mode": {
    "name": "ipython",
    "version": 3
   },
   "file_extension": ".py",
   "mimetype": "text/x-python",
   "name": "python",
   "nbconvert_exporter": "python",
   "pygments_lexer": "ipython3",
   "version": "3.7.1"
  }
 },
 "nbformat": 4,
 "nbformat_minor": 2
}
